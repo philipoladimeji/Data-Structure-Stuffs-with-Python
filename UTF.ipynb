{
 "cells": [
  {
   "cell_type": "code",
   "execution_count": 1,
   "metadata": {},
   "outputs": [
    {
     "name": "stdout",
     "output_type": "stream",
     "text": [
      "True\n"
     ]
    }
   ],
   "source": [
    " def checkIfTwoBytes(string, i):\n",
    "    if len(string) - i < 16:\n",
    "        return False\n",
    "    if string[i: i+3] == \"110\" and string[i+8: i+10] == \"10\":\n",
    "        return True\n",
    "    else:\n",
    "        return False\n",
    "\n",
    "def checkIfThreeBytes(string, i):\n",
    "    if len(string) - i < 24:\n",
    "        return False\n",
    "    \n",
    "    if string[i: i + 4] == \"1110\" and string[i+8:i+10] == \"10\" and string[i + 16: i+18] == \"10\":\n",
    "        return True # i is like the iterator (where we're at atm)\n",
    "    else:\n",
    "        return False\n",
    "\n",
    "\n",
    "def isUTF(string):\n",
    "    # check if the length of the string is not divisible by 8\n",
    "    if len(string) % 8 != 0:\n",
    "        return False\n",
    "    \n",
    "    # check if the string contains only 0's and 1's\n",
    "    \n",
    "    for char in string:\n",
    "        if char != '0' and char != '1':\n",
    "            return False\n",
    "    \n",
    "    i = 0    #\"question\" while set i to be 0? because we're setting i to 0 (zero counter)\n",
    "    while i <len(string):\n",
    "        # check if the byte starting at string[i] is 1 byte\n",
    "        if string[i] == '0':\n",
    "            i += 8 # Skip 8 and go to the next one\n",
    "        elif checkIfTwoBytes(string, i):\n",
    "            i += 16 # Check if it's two bytes should incase the first one does'nt start from 0\n",
    "        elif checkIfThreeBytes(string, i):\n",
    "            i += 24\n",
    "        else:\n",
    "            return False\n",
    "    return True\n",
    "\n",
    "print(isUTF(\"11100100100010001011111101011101\"))\n",
    "    \n",
    "    "
   ]
  },
  {
   "cell_type": "code",
   "execution_count": 22,
   "metadata": {},
   "outputs": [
    {
     "name": "stdout",
     "output_type": "stream",
     "text": [
      "10\n"
     ]
    },
    {
     "data": {
      "text/plain": [
       "'30'"
      ]
     },
     "execution_count": 22,
     "metadata": {},
     "output_type": "execute_result"
    }
   ],
   "source": [
    "x = \"10:30\"\n",
    "x.find(':')\n",
    "print(x[:2])\n",
    "x[3:]"
   ]
  },
  {
   "cell_type": "code",
   "execution_count": 3,
   "metadata": {},
   "outputs": [
    {
     "name": "stdout",
     "output_type": "stream",
     "text": [
      "6\n"
     ]
    }
   ],
   "source": [
    "import math\n",
    "def minimumTimeDifference(arr):\n",
    "    \n",
    "    #minuteArr = [ int(time[:time.find(\":\")])* 60 + int(time[time.find(\":\") + 1:]) for time in arr]\n",
    "    minuteArr = []\n",
    "    \n",
    "    \n",
    "    for i in range(len(arr)):\n",
    "        # find the delimeter's position\n",
    "        delimeterIndex = arr[i].find(\":\")# : Trying to get the index so i can find the hour\n",
    "        #.find(it will find the format in which the symbol is given(07:20 or 7:20, so we use .find is to get the form in which it's given))\n",
    "        \n",
    "        # get the hour from the time\n",
    "        hour = int(arr[i][:delimeterIndex]) #(:delimeterIndex means idexing from the beginning of the delimeterIndex to the end to get the hour) Indexing from the begnining to the delimeter index \n",
    "        # get the minute from the time\n",
    "        minute = int(arr[i][delimeterIndex + 1:]) #(delimeterIndex + 1: (+1:)we are using these to get the minute without including the column or delimiter)\n",
    "        # convert the time to minute by multiplying the hour by 60 and adding to the minutes\n",
    "        minuteArr.append(hour * 60 + minute)# Converting each hours to minute to get the total minute and appending it to the minute array\n",
    " #Appending to the empty array up (10:20 = 10 * 60 + 20)\n",
    "    # sort the array\n",
    "    minuteArr.sort() #The closet element or the previous element is the next element to it\n",
    "    \n",
    "    # Initialize the minimum difference to be infinity\n",
    "    minDiff = minuteArr[1] - minuteArr[0]\n",
    "    for i in range(1, len(minuteArr) - 1):\n",
    "        # Update minimum difference\n",
    "        \n",
    "        if minuteArr[i + 1] - minuteArr[i] < minDiff:\n",
    "            minDiff = minuteArr[i + 1] - minuteArr[i]\n",
    "\n",
    "    \n",
    "    return minDiff\n",
    "\n",
    "arr = [\"10:50\", \"8:00\", \"9:15\", \"11:00\", \"12:40\", \"22:15\", \"23:56\", \"23:50\"]\n",
    "print(minimumTimeDifference(arr))"
   ]
  },
  {
   "cell_type": "code",
   "execution_count": 1,
   "metadata": {},
   "outputs": [
    {
     "data": {
      "text/plain": [
       "'philip'"
      ]
     },
     "execution_count": 1,
     "metadata": {},
     "output_type": "execute_result"
    }
   ],
   "source": [
    "string = \"philip77\"\n",
    "\"\".join([i for i in string if i.isalpha()])"
   ]
  },
  {
   "cell_type": "code",
   "execution_count": 4,
   "metadata": {},
   "outputs": [
    {
     "ename": "SyntaxError",
     "evalue": "invalid syntax (<ipython-input-4-b16e9eb4fa31>, line 1)",
     "output_type": "error",
     "traceback": [
      "\u001b[1;36m  File \u001b[1;32m\"<ipython-input-4-b16e9eb4fa31>\"\u001b[1;36m, line \u001b[1;32m1\u001b[0m\n\u001b[1;33m    string \"philip77\"\u001b[0m\n\u001b[1;37m                    ^\u001b[0m\n\u001b[1;31mSyntaxError\u001b[0m\u001b[1;31m:\u001b[0m invalid syntax\n"
     ]
    }
   ],
   "source": [
    "string \"philip77\"\n",
    "(string.count(isalpha))"
   ]
  },
  {
   "cell_type": "code",
   "execution_count": null,
   "metadata": {},
   "outputs": [],
   "source": []
  }
 ],
 "metadata": {
  "kernelspec": {
   "display_name": "Python 3",
   "language": "python",
   "name": "python3"
  },
  "language_info": {
   "codemirror_mode": {
    "name": "ipython",
    "version": 3
   },
   "file_extension": ".py",
   "mimetype": "text/x-python",
   "name": "python",
   "nbconvert_exporter": "python",
   "pygments_lexer": "ipython3",
   "version": "3.6.5"
  }
 },
 "nbformat": 4,
 "nbformat_minor": 2
}
