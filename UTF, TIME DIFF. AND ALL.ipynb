{
 "cells": [
  {
   "cell_type": "code",
   "execution_count": 1,
   "metadata": {},
   "outputs": [
    {
     "name": "stdout",
     "output_type": "stream",
     "text": [
      "True\n"
     ]
    }
   ],
   "source": [
    "def CheckIfTwoBytes(string, i):\n",
    "    if len(string) - i < 16:\n",
    "        return False\n",
    "    if string[i:3] == \"110\" and string[8:10] == \"10\":\n",
    "        return True\n",
    "    else:\n",
    "        return False\n",
    "\n",
    "def CheckIfThreeBytes(string, i):\n",
    "    if len(string) - i < 24:\n",
    "        return False\n",
    "    if string[i:4] == \"1110\" and string[8:10] == \"10\" and string[16:18] == \"10\":\n",
    "        return True\n",
    "    else:\n",
    "        return False\n",
    "\n",
    "\n",
    "def UTF(string):\n",
    "    if len(string) % 8 != 0:\n",
    "        return False\n",
    "    \n",
    "    for char in string:\n",
    "        if char != \"0\" and char != \"1\":\n",
    "            return False\n",
    "        \n",
    "    i = 0\n",
    "    while i <len(string):\n",
    "        if string[i] == \"0\":\n",
    "            i += 8\n",
    "        elif CheckIfTwoBytes(string, i):\n",
    "            i += 16\n",
    "        elif CheckIfThreeBytes(string, i):\n",
    "            i += 24\n",
    "        else:\n",
    "            return False\n",
    "    return True\n",
    "\n",
    "print(UTF(\"11100100100010001011111101011101\"))"
   ]
  },
  {
   "cell_type": "code",
   "execution_count": 2,
   "metadata": {},
   "outputs": [
    {
     "name": "stdout",
     "output_type": "stream",
     "text": [
      "7\n"
     ]
    }
   ],
   "source": [
    "import math\n",
    "def minimumTimeDifference(arr):\n",
    "    \n",
    "    #minuteArr = [ int(time[:time.find(\":\")])* 60 + int(time[time.find(\":\") + 1:]) for time in arr]\n",
    "    minuteArr = []\n",
    "    \n",
    "    \n",
    "    for i in range(len(arr)):\n",
    "        # find the delimeter's position\n",
    "        delimeterIndex = arr[i].find(\":\")\n",
    "        # get the hour from the time\n",
    "        hour = int(arr[i][:delimeterIndex])\n",
    "        # get the minute from the time\n",
    "        minute = int(arr[i][delimeterIndex + 1:])\n",
    "        # convert the time to minute by multiplying the hour by 60 and adding to the minutes\n",
    "        minuteArr.append(hour * 60 + minute)\n",
    "    \n",
    "    # sort the array\n",
    "    minuteArr.sort()\n",
    "    \n",
    "    # Initialize the minimum difference to be infinity\n",
    "    minDiff = minuteArr[1] - minuteArr[0]\n",
    "    for i  in range(1, len(minuteArr) - 1):\n",
    "        # Update minimum difference\n",
    "        \n",
    "        if minuteArr[i + 1] - minuteArr[i] < minDiff:\n",
    "            minDiff = minuteArr[i + 1] - minuteArr[i]\n",
    "\n",
    "    \n",
    "    return minDiff\n",
    "\n",
    "arr = [\"10:50\", \"8:00\", \"9:15\", \"11:00\", \"12:40\", \"22:15\", \"23:57\", \"23:50\"]\n",
    "print(minimumTimeDifference(arr))"
   ]
  },
  {
   "cell_type": "code",
   "execution_count": 3,
   "metadata": {},
   "outputs": [
    {
     "data": {
      "text/plain": [
       "['ABC', 'ABc', 'abc']"
      ]
     },
     "execution_count": 3,
     "metadata": {},
     "output_type": "execute_result"
    }
   ],
   "source": [
    "L = [\"ABc\",\"abc\",\"ABC\"]\n",
    "L.sort()\n",
    "L"
   ]
  },
  {
   "cell_type": "code",
   "execution_count": 4,
   "metadata": {},
   "outputs": [
    {
     "data": {
      "text/plain": [
       "'John'"
      ]
     },
     "execution_count": 4,
     "metadata": {},
     "output_type": "execute_result"
    }
   ],
   "source": [
    "rec = {\n",
    "    \"Name\": {\"FirstName\": \"John\", \"LastName\":\"Jude\"},\n",
    "    \"Job\": \"SoftwareEngineer\",\n",
    "    \"Age\": \"24\",\n",
    "    \"Love\": \"love\"\n",
    "}\n",
    "rec[\"Name\"][\"FirstName\"]"
   ]
  },
  {
   "cell_type": "code",
   "execution_count": 5,
   "metadata": {},
   "outputs": [
    {
     "name": "stdout",
     "output_type": "stream",
     "text": [
      "[(1, 'a'), (2, 'b'), (3, 'c'), (6, 'd'), (5, 'e')]\n"
     ]
    },
    {
     "data": {
      "text/plain": [
       "{'a': 1, 'b': 2, 'c': 3, 'd': 6, 'e': 5}"
      ]
     },
     "execution_count": 5,
     "metadata": {},
     "output_type": "execute_result"
    }
   ],
   "source": [
    "print(list(zip([1,2,3,6,5],[\"a\",\"b\",\"c\",\"d\",\"e\"])))\n",
    "dict(zip([\"a\",\"b\",\"c\",\"d\",\"e\"],[1,2,3,6,5]))\n"
   ]
  },
  {
   "cell_type": "code",
   "execution_count": 6,
   "metadata": {},
   "outputs": [
    {
     "data": {
      "text/plain": [
       "{4: 8, 6: 12, 8: 16, 12: 24, 16: 32}"
      ]
     },
     "execution_count": 6,
     "metadata": {},
     "output_type": "execute_result"
    }
   ],
   "source": [
    "d = {\n",
    "    x: x*2 for x in[4,6,8,12,16]\n",
    "}\n",
    "d"
   ]
  },
  {
   "cell_type": "code",
   "execution_count": 7,
   "metadata": {},
   "outputs": [
    {
     "data": {
      "text/plain": [
       "{'spam': 'SPAM!', 'eggs': 'EGGS!', 'ham': 'HAM!'}"
      ]
     },
     "execution_count": 7,
     "metadata": {},
     "output_type": "execute_result"
    }
   ],
   "source": [
    "D = {c.lower(): c + '!' for c in ['SPAM', 'EGGS', 'HAM']}\n",
    "D"
   ]
  },
  {
   "cell_type": "code",
   "execution_count": 8,
   "metadata": {},
   "outputs": [
    {
     "data": {
      "text/plain": [
       "{'a': 0, 'b': 0, 'c': 0}"
      ]
     },
     "execution_count": 8,
     "metadata": {},
     "output_type": "execute_result"
    }
   ],
   "source": [
    "D = dict.fromkeys(['a', 'b', 'c'], 0)\n",
    "D"
   ]
  },
  {
   "cell_type": "code",
   "execution_count": 9,
   "metadata": {},
   "outputs": [
    {
     "data": {
      "text/plain": [
       "{'a': 1, 'b': 2, 'c': 3, 'd': 4}"
      ]
     },
     "execution_count": 9,
     "metadata": {},
     "output_type": "execute_result"
    }
   ],
   "source": [
    "d = dict(a=1,b=2,c=3,d=4)\n",
    "d"
   ]
  },
  {
   "cell_type": "code",
   "execution_count": 10,
   "metadata": {},
   "outputs": [
    {
     "data": {
      "text/plain": [
       "{'name': 'John', 'job': 'SoftwareEngineer'}"
      ]
     },
     "execution_count": 10,
     "metadata": {},
     "output_type": "execute_result"
    }
   ],
   "source": [
    "a = dict(name = \"John\", job = \"SoftwareEngineer\")\n",
    "a"
   ]
  },
  {
   "cell_type": "code",
   "execution_count": 11,
   "metadata": {},
   "outputs": [
    {
     "name": "stdout",
     "output_type": "stream",
     "text": [
      "7\n",
      "0.11666666666666667\n"
     ]
    }
   ],
   "source": [
    "import math\n",
    "def minimumTimeDifference(arr):\n",
    "    \n",
    "    #minuteArr = [ int(time[:time.find(\":\")])* 60 + int(time[time.find(\":\") + 1:]) for time in arr]\n",
    "    minuteArr = []\n",
    "    \n",
    "    \n",
    "    for i in range(len(arr)):\n",
    "        # find the delimeter's position\n",
    "        delimeterIndex = arr[i].find(\":\")\n",
    "        # get the hour from the time\n",
    "        hour = int(arr[i][:delimeterIndex])\n",
    "        # get the minute from the time\n",
    "        minute = int(arr[i][delimeterIndex + 1:])\n",
    "        # convert the time to minute by multiplying the hour by 60 and adding to the minutes\n",
    "        minuteArr.append(hour * 60 + minute)\n",
    "    \n",
    "    # sort the array\n",
    "    minuteArr.sort()\n",
    "    \n",
    "    # Initialize the minimum difference to be infinity\n",
    "    minDiff = minuteArr[1] - minuteArr[0]\n",
    "    for i  in range(1, len(minuteArr) - 1):\n",
    "        # Update minimum difference\n",
    "        \n",
    "        if minuteArr[i + 1] - minuteArr[i] < minDiff:\n",
    "            minDiff = minuteArr[i + 1] - minuteArr[i]\n",
    "\n",
    "    \n",
    "    return minDiff\n",
    "\n",
    "arr = [\"10:50\", \"8:00\", \"9:15\", \"11:00\", \"12:40\", \"22:15\", \"23:57\", \"23:50\"]\n",
    "print(minimumTimeDifference(arr))\n",
    "print(minimumTimeDifference(arr)/60)"
   ]
  },
  {
   "cell_type": "code",
   "execution_count": 12,
   "metadata": {},
   "outputs": [
    {
     "data": {
      "text/plain": [
       "'Yes'"
      ]
     },
     "execution_count": 12,
     "metadata": {},
     "output_type": "execute_result"
    }
   ],
   "source": [
    "string = (\"Yes3435\")\n",
    "#string.count(isalpha())\n",
    "\"\".join([i for i in string if i.isalpha()])"
   ]
  },
  {
   "cell_type": "code",
   "execution_count": 13,
   "metadata": {},
   "outputs": [
    {
     "name": "stdout",
     "output_type": "stream",
     "text": [
      "5\n",
      "7\n"
     ]
    }
   ],
   "source": [
    "#getting the duplicate in an array\n",
    "\n",
    "list = [1, 2, 3, 4, 5, 5, 6, 7, 7]\n",
    "list.sort()\n",
    "for i in range(len(list)-1):\n",
    "    if list[i] == list[i+1]:\n",
    "        print(list[i])"
   ]
  },
  {
   "cell_type": "code",
   "execution_count": 14,
   "metadata": {},
   "outputs": [
    {
     "data": {
      "text/plain": [
       "[2, 4, 10, 20, 5]"
      ]
     },
     "execution_count": 14,
     "metadata": {},
     "output_type": "execute_result"
    }
   ],
   "source": [
    "#Removing duplicate(the number s that appears twice)\n",
    "def Remove(duplicate):\n",
    "    final_list = []\n",
    "    for num in duplicate:\n",
    "        if num not in final_list:\n",
    "            final_list.append(num)\n",
    "    return final_list\n",
    "\n",
    "duplicate = [2, 4, 10, 20, 5, 2, 20, 4]\n",
    "Remove(duplicate)"
   ]
  },
  {
   "cell_type": "code",
   "execution_count": 15,
   "metadata": {},
   "outputs": [
    {
     "name": "stdout",
     "output_type": "stream",
     "text": [
      "[1, 2, 3, 4, 5, 6, 7, 8, 9, 10]\n"
     ]
    }
   ],
   "source": [
    "a = [1,2,3,4,5]\n",
    "b = [6,7,8,9,10]\n",
    "print(a+b)"
   ]
  },
  {
   "cell_type": "code",
   "execution_count": 16,
   "metadata": {},
   "outputs": [
    {
     "name": "stdout",
     "output_type": "stream",
     "text": [
      "[1, 3, 5, 7, 8, 9]\n"
     ]
    }
   ],
   "source": [
    "#removing y in x\n",
    "x = [1, 2, 3, 4, 5, 6, 7, 8, 9]\n",
    "y = [2, 4, 6]\n",
    "res = [i for i in x if i not in y]\n",
    "print(res)"
   ]
  },
  {
   "cell_type": "code",
   "execution_count": 17,
   "metadata": {},
   "outputs": [
    {
     "ename": "TypeError",
     "evalue": "'function' object is not subscriptable",
     "output_type": "error",
     "traceback": [
      "\u001b[1;31m---------------------------------------------------------------------------\u001b[0m",
      "\u001b[1;31mTypeError\u001b[0m                                 Traceback (most recent call last)",
      "\u001b[1;32m<ipython-input-17-fa2c80c3b733>\u001b[0m in \u001b[0;36m<module>\u001b[1;34m()\u001b[0m\n\u001b[0;32m      4\u001b[0m         \u001b[1;32mif\u001b[0m \u001b[0mcount\u001b[0m\u001b[1;33m[\u001b[0m\u001b[0mnumber\u001b[0m\u001b[1;33m]\u001b[0m \u001b[1;33m==\u001b[0m \u001b[1;36m2\u001b[0m\u001b[1;33m:\u001b[0m\u001b[1;33m\u001b[0m\u001b[0m\n\u001b[0;32m      5\u001b[0m             \u001b[1;32mreturn\u001b[0m \u001b[0mnumber\u001b[0m\u001b[1;33m\u001b[0m\u001b[0m\n\u001b[1;32m----> 6\u001b[1;33m \u001b[0mprint\u001b[0m\u001b[1;33m(\u001b[0m\u001b[0mfind_RepeatedValue\u001b[0m\u001b[1;33m[\u001b[0m\u001b[1;36m1\u001b[0m\u001b[1;33m,\u001b[0m\u001b[1;36m2\u001b[0m\u001b[1;33m,\u001b[0m\u001b[1;36m3\u001b[0m\u001b[1;33m,\u001b[0m\u001b[1;36m4\u001b[0m\u001b[1;33m,\u001b[0m\u001b[1;36m5\u001b[0m\u001b[1;33m,\u001b[0m\u001b[1;36m6\u001b[0m\u001b[1;33m,\u001b[0m\u001b[1;36m7\u001b[0m\u001b[1;33m,\u001b[0m\u001b[1;36m5\u001b[0m\u001b[1;33m,\u001b[0m\u001b[1;36m6\u001b[0m\u001b[1;33m,\u001b[0m\u001b[1;36m7\u001b[0m\u001b[1;33m]\u001b[0m\u001b[1;33m)\u001b[0m\u001b[1;33m\u001b[0m\u001b[0m\n\u001b[0m",
      "\u001b[1;31mTypeError\u001b[0m: 'function' object is not subscriptable"
     ]
    }
   ],
   "source": [
    "def find_RepeatedValue(n, numbers):\n",
    "    count = bytearray(n + 1) # count = [0] * (n+1)\n",
    "    for number in numbers:\n",
    "        if count[number] == 2:\n",
    "            return number\n",
    "print(find_RepeatedValue[1,2,3,4,5,6,7,5,6,7])"
   ]
  },
  {
   "cell_type": "code",
   "execution_count": 18,
   "metadata": {},
   "outputs": [
    {
     "ename": "TypeError",
     "evalue": "'str' object is not callable",
     "output_type": "error",
     "traceback": [
      "\u001b[1;31m---------------------------------------------------------------------------\u001b[0m",
      "\u001b[1;31mTypeError\u001b[0m                                 Traceback (most recent call last)",
      "\u001b[1;32m<ipython-input-18-56e4d758cb0f>\u001b[0m in \u001b[0;36m<module>\u001b[1;34m()\u001b[0m\n\u001b[0;32m     16\u001b[0m         \u001b[1;32mreturn\u001b[0m \u001b[0mstr\u001b[0m\u001b[1;33m(\u001b[0m\u001b[0mint\u001b[0m\u001b[1;33m(\u001b[0m\u001b[0mstr\u001b[0m\u001b[1;33m[\u001b[0m\u001b[1;33m:\u001b[0m\u001b[1;36m2\u001b[0m\u001b[1;33m]\u001b[0m\u001b[1;33m)\u001b[0m \u001b[1;33m+\u001b[0m \u001b[1;36m12\u001b[0m\u001b[1;33m)\u001b[0m \u001b[1;33m+\u001b[0m \u001b[0mstr\u001b[0m\u001b[1;33m[\u001b[0m\u001b[1;36m2\u001b[0m\u001b[1;33m:\u001b[0m\u001b[1;36m8\u001b[0m\u001b[1;33m]\u001b[0m\u001b[1;33m\u001b[0m\u001b[0m\n\u001b[0;32m     17\u001b[0m \u001b[1;31m#driver code\u001b[0m\u001b[1;33m\u001b[0m\u001b[1;33m\u001b[0m\u001b[0m\n\u001b[1;32m---> 18\u001b[1;33m \u001b[0mprint\u001b[0m\u001b[1;33m(\u001b[0m\u001b[0mconvert24\u001b[0m\u001b[1;33m(\u001b[0m\u001b[1;34m\"08:05:45 PM\"\u001b[0m\u001b[1;33m)\u001b[0m\u001b[1;33m)\u001b[0m\u001b[1;33m\u001b[0m\u001b[0m\n\u001b[0m\u001b[0;32m     19\u001b[0m \u001b[1;33m\u001b[0m\u001b[0m\n",
      "\u001b[1;32m<ipython-input-18-56e4d758cb0f>\u001b[0m in \u001b[0;36mconvert24\u001b[1;34m(str)\u001b[0m\n\u001b[0;32m     14\u001b[0m     \u001b[1;32melse\u001b[0m\u001b[1;33m:\u001b[0m\u001b[1;33m\u001b[0m\u001b[0m\n\u001b[0;32m     15\u001b[0m         \u001b[1;31m#add 12 to hours and remove PM\u001b[0m\u001b[1;33m\u001b[0m\u001b[1;33m\u001b[0m\u001b[0m\n\u001b[1;32m---> 16\u001b[1;33m         \u001b[1;32mreturn\u001b[0m \u001b[0mstr\u001b[0m\u001b[1;33m(\u001b[0m\u001b[0mint\u001b[0m\u001b[1;33m(\u001b[0m\u001b[0mstr\u001b[0m\u001b[1;33m[\u001b[0m\u001b[1;33m:\u001b[0m\u001b[1;36m2\u001b[0m\u001b[1;33m]\u001b[0m\u001b[1;33m)\u001b[0m \u001b[1;33m+\u001b[0m \u001b[1;36m12\u001b[0m\u001b[1;33m)\u001b[0m \u001b[1;33m+\u001b[0m \u001b[0mstr\u001b[0m\u001b[1;33m[\u001b[0m\u001b[1;36m2\u001b[0m\u001b[1;33m:\u001b[0m\u001b[1;36m8\u001b[0m\u001b[1;33m]\u001b[0m\u001b[1;33m\u001b[0m\u001b[0m\n\u001b[0m\u001b[0;32m     17\u001b[0m \u001b[1;31m#driver code\u001b[0m\u001b[1;33m\u001b[0m\u001b[1;33m\u001b[0m\u001b[0m\n\u001b[0;32m     18\u001b[0m \u001b[0mprint\u001b[0m\u001b[1;33m(\u001b[0m\u001b[0mconvert24\u001b[0m\u001b[1;33m(\u001b[0m\u001b[1;34m\"08:05:45 PM\"\u001b[0m\u001b[1;33m)\u001b[0m\u001b[1;33m)\u001b[0m\u001b[1;33m\u001b[0m\u001b[0m\n",
      "\u001b[1;31mTypeError\u001b[0m: 'str' object is not callable"
     ]
    }
   ],
   "source": [
    "# function to convert the date format \n",
    "def convert24(str):\n",
    "    # Checking if last two elements of time is AM and last two is 12\n",
    "    if str[:2] == \"AM\" and str[2:] == \"12\":\n",
    "        return \"00\" + str[2: -2]\n",
    "    # remove the AM\n",
    "    elif str[-2:] == \"AM\":\n",
    "        return str[:-2]\n",
    "    \n",
    "    \n",
    "    # Checking if last two elements of time is PM and the first is 12\n",
    "    elif str[-2:] == \"PM\" and str[:2] == \"12\":\n",
    "        return str[:-2]\n",
    "    else:\n",
    "        #add 12 to hours and remove PM\n",
    "        return str(int(str[:2]) + 12) + str[2:8]\n",
    "#driver code\n",
    "print(convert24(\"08:05:45 PM\"))\n",
    "    "
   ]
  },
  {
   "cell_type": "code",
   "execution_count": 19,
   "metadata": {},
   "outputs": [
    {
     "data": {
      "text/plain": [
       "2"
      ]
     },
     "execution_count": 19,
     "metadata": {},
     "output_type": "execute_result"
    }
   ],
   "source": [
    "#counting the number of apearrance of a\n",
    "\"yesyesandyesandyes\".count(\"a\")"
   ]
  },
  {
   "cell_type": "code",
   "execution_count": 20,
   "metadata": {},
   "outputs": [
    {
     "data": {
      "text/plain": [
       "5.0"
      ]
     },
     "execution_count": 20,
     "metadata": {},
     "output_type": "execute_result"
    }
   ],
   "source": [
    "#finding the missing element\n",
    "a = [1,2,3,4,6,7,8,9]\n",
    "n = len(a) + 1\n",
    "(n * (n+1)/2) - sum(a)"
   ]
  },
  {
   "cell_type": "code",
   "execution_count": 21,
   "metadata": {},
   "outputs": [
    {
     "data": {
      "text/plain": [
       "5"
      ]
     },
     "execution_count": 21,
     "metadata": {},
     "output_type": "execute_result"
    }
   ],
   "source": [
    "a1 = [1,2,3,4,5,7,8,9,10]\n",
    "sum(range(a1[0], a[-1]+1)) - sum(a)"
   ]
  },
  {
   "cell_type": "code",
   "execution_count": 22,
   "metadata": {},
   "outputs": [
    {
     "data": {
      "text/plain": [
       "'aaaaaaaaaaaaaaaa'"
      ]
     },
     "execution_count": 22,
     "metadata": {},
     "output_type": "execute_result"
    }
   ],
   "source": [
    "\"aaaaaaaaaaaaaaab\".replace(\"b\", \"a\")"
   ]
  },
  {
   "cell_type": "code",
   "execution_count": 26,
   "metadata": {},
   "outputs": [
    {
     "name": "stdout",
     "output_type": "stream",
     "text": [
      "<function try1 at 0x0000027D5E7A6B70>\n"
     ]
    }
   ],
   "source": [
    "def try1(seq1, seq2):\n",
    "    for x in seq1 and seq2:\n",
    "        if x in seq1 != seq2:\n",
    "            return x\n",
    "        else:\n",
    "            return True\n",
    "seq1 = [1,2,3,4,5]\n",
    "seq2 = [2,4,6,8]\n",
    "print(try1)"
   ]
  },
  {
   "cell_type": "code",
   "execution_count": 38,
   "metadata": {},
   "outputs": [],
   "source": [
    "def try1(seq1, seq2):\n",
    "    res = []\n",
    "    for x in seq1:\n",
    "        if x in seq2:\n",
    "            res.append(x)\n",
    "    return res"
   ]
  },
  {
   "cell_type": "code",
   "execution_count": null,
   "metadata": {},
   "outputs": [],
   "source": []
  }
 ],
 "metadata": {
  "kernelspec": {
   "display_name": "Python 3",
   "language": "python",
   "name": "python3"
  },
  "language_info": {
   "codemirror_mode": {
    "name": "ipython",
    "version": 3
   },
   "file_extension": ".py",
   "mimetype": "text/x-python",
   "name": "python",
   "nbconvert_exporter": "python",
   "pygments_lexer": "ipython3",
   "version": "3.6.5"
  }
 },
 "nbformat": 4,
 "nbformat_minor": 2
}
